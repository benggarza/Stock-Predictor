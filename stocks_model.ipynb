{
  "nbformat": 4,
  "nbformat_minor": 0,
  "metadata": {
    "colab": {
      "name": "stocks_model.ipynb",
      "provenance": []
    },
    "kernelspec": {
      "name": "python3",
      "display_name": "Python 3"
    }
  },
  "cells": [
    {
      "cell_type": "markdown",
      "metadata": {
        "id": "nISBpHRfU0Oy"
      },
      "source": [
        "#STOCKS MODEL\n",
        "\n",
        "Using Yahoo Finance stock data to predict if a stock will be a higher price next week.\n",
        "\n",
        "A classification problem:\n",
        "  given -> previous week of trading of a ticker, including today\n",
        "  will the stock be higher at the close in 48 hours?\n",
        "\n",
        "\n",
        "Argument for choosing low is that it guarantees you could sell on that day for more than the stock's value a week ago."
      ]
    },
    {
      "cell_type": "markdown",
      "metadata": {
        "id": "xssAo3GfVt2a"
      },
      "source": [
        "# Environment Setup"
      ]
    },
    {
      "cell_type": "code",
      "metadata": {
        "id": "Ya0uay3MVkNV",
        "colab": {
          "base_uri": "https://localhost:8080/"
        },
        "outputId": "1ee7e66b-993e-4552-d383-66bb86a51dde"
      },
      "source": [
        "# Mount Google Drive\n",
        "from google.colab import drive\n",
        "drive.mount('/content/drive')"
      ],
      "execution_count": null,
      "outputs": [
        {
          "output_type": "stream",
          "name": "stdout",
          "text": [
            "Mounted at /content/drive\n"
          ]
        }
      ]
    },
    {
      "cell_type": "code",
      "metadata": {
        "id": "K1ywEW94XdLo",
        "colab": {
          "base_uri": "https://localhost:8080/"
        },
        "outputId": "64ec44d9-eeda-4cdb-96bc-23a4627a7743"
      },
      "source": [
        "# install necessary modules\n",
        "#!pip install alpha_vantage\n",
        "\n",
        "# Google finance API no longer available\n",
        "# googlefinance provides stock price data\n",
        "#!pip install googlefinance\n",
        "\n",
        "\n",
        "!pip install get-all-tickers\n",
        "!pip install yfinance\n",
        "\n",
        "# tweepy is Twitter API wrapper\n",
        "# !pip install tweepy\n",
        "\n",
        "# skrebate contains ReliefF algo for feature selection\n",
        "!pip install skrebate"
      ],
      "execution_count": null,
      "outputs": [
        {
          "output_type": "stream",
          "name": "stdout",
          "text": [
            "Looking in indexes: https://pypi.org/simple, https://us-python.pkg.dev/colab-wheels/public/simple/\n",
            "Collecting get-all-tickers\n",
            "  Downloading get_all_tickers-1.8.tar.gz (3.4 kB)\n",
            "Requirement already satisfied: pandas in /usr/local/lib/python3.7/dist-packages (from get-all-tickers) (1.3.5)\n",
            "Requirement already satisfied: requests in /usr/local/lib/python3.7/dist-packages (from get-all-tickers) (2.23.0)\n",
            "Requirement already satisfied: python-dateutil>=2.7.3 in /usr/local/lib/python3.7/dist-packages (from pandas->get-all-tickers) (2.8.2)\n",
            "Requirement already satisfied: numpy>=1.17.3 in /usr/local/lib/python3.7/dist-packages (from pandas->get-all-tickers) (1.21.6)\n",
            "Requirement already satisfied: pytz>=2017.3 in /usr/local/lib/python3.7/dist-packages (from pandas->get-all-tickers) (2022.1)\n",
            "Requirement already satisfied: six>=1.5 in /usr/local/lib/python3.7/dist-packages (from python-dateutil>=2.7.3->pandas->get-all-tickers) (1.15.0)\n",
            "Requirement already satisfied: certifi>=2017.4.17 in /usr/local/lib/python3.7/dist-packages (from requests->get-all-tickers) (2022.5.18.1)\n",
            "Requirement already satisfied: idna<3,>=2.5 in /usr/local/lib/python3.7/dist-packages (from requests->get-all-tickers) (2.10)\n",
            "Requirement already satisfied: urllib3!=1.25.0,!=1.25.1,<1.26,>=1.21.1 in /usr/local/lib/python3.7/dist-packages (from requests->get-all-tickers) (1.24.3)\n",
            "Requirement already satisfied: chardet<4,>=3.0.2 in /usr/local/lib/python3.7/dist-packages (from requests->get-all-tickers) (3.0.4)\n",
            "Building wheels for collected packages: get-all-tickers\n",
            "  Building wheel for get-all-tickers (setup.py) ... \u001b[?25l\u001b[?25hdone\n",
            "  Created wheel for get-all-tickers: filename=get_all_tickers-1.8-py3-none-any.whl size=4248 sha256=86659acbbc71113d9cb761cd37ce756ef9e7ef7cdf26a1e6c31f529b4fa334e0\n",
            "  Stored in directory: /root/.cache/pip/wheels/f0/8d/8f/25b9632788de8771fb8be22529bbe0ba5ae5446f3be65b1ab3\n",
            "Successfully built get-all-tickers\n",
            "Installing collected packages: get-all-tickers\n",
            "Successfully installed get-all-tickers-1.8\n",
            "Looking in indexes: https://pypi.org/simple, https://us-python.pkg.dev/colab-wheels/public/simple/\n",
            "Collecting yfinance\n",
            "  Downloading yfinance-0.1.70-py2.py3-none-any.whl (26 kB)\n",
            "Requirement already satisfied: multitasking>=0.0.7 in /usr/local/lib/python3.7/dist-packages (from yfinance) (0.0.10)\n",
            "Requirement already satisfied: numpy>=1.15 in /usr/local/lib/python3.7/dist-packages (from yfinance) (1.21.6)\n",
            "Requirement already satisfied: pandas>=0.24.0 in /usr/local/lib/python3.7/dist-packages (from yfinance) (1.3.5)\n",
            "Collecting requests>=2.26\n",
            "  Downloading requests-2.27.1-py2.py3-none-any.whl (63 kB)\n",
            "\u001b[K     |████████████████████████████████| 63 kB 1.3 MB/s \n",
            "\u001b[?25hCollecting lxml>=4.5.1\n",
            "  Downloading lxml-4.9.0-cp37-cp37m-manylinux_2_17_x86_64.manylinux2014_x86_64.manylinux_2_24_x86_64.whl (6.4 MB)\n",
            "\u001b[K     |████████████████████████████████| 6.4 MB 10.6 MB/s \n",
            "\u001b[?25hRequirement already satisfied: python-dateutil>=2.7.3 in /usr/local/lib/python3.7/dist-packages (from pandas>=0.24.0->yfinance) (2.8.2)\n",
            "Requirement already satisfied: pytz>=2017.3 in /usr/local/lib/python3.7/dist-packages (from pandas>=0.24.0->yfinance) (2022.1)\n",
            "Requirement already satisfied: six>=1.5 in /usr/local/lib/python3.7/dist-packages (from python-dateutil>=2.7.3->pandas>=0.24.0->yfinance) (1.15.0)\n",
            "Requirement already satisfied: certifi>=2017.4.17 in /usr/local/lib/python3.7/dist-packages (from requests>=2.26->yfinance) (2022.5.18.1)\n",
            "Requirement already satisfied: charset-normalizer~=2.0.0 in /usr/local/lib/python3.7/dist-packages (from requests>=2.26->yfinance) (2.0.12)\n",
            "Requirement already satisfied: idna<4,>=2.5 in /usr/local/lib/python3.7/dist-packages (from requests>=2.26->yfinance) (2.10)\n",
            "Requirement already satisfied: urllib3<1.27,>=1.21.1 in /usr/local/lib/python3.7/dist-packages (from requests>=2.26->yfinance) (1.24.3)\n",
            "Installing collected packages: requests, lxml, yfinance\n",
            "  Attempting uninstall: requests\n",
            "    Found existing installation: requests 2.23.0\n",
            "    Uninstalling requests-2.23.0:\n",
            "      Successfully uninstalled requests-2.23.0\n",
            "  Attempting uninstall: lxml\n",
            "    Found existing installation: lxml 4.2.6\n",
            "    Uninstalling lxml-4.2.6:\n",
            "      Successfully uninstalled lxml-4.2.6\n",
            "\u001b[31mERROR: pip's dependency resolver does not currently take into account all the packages that are installed. This behaviour is the source of the following dependency conflicts.\n",
            "google-colab 1.0.0 requires requests~=2.23.0, but you have requests 2.27.1 which is incompatible.\n",
            "datascience 0.10.6 requires folium==0.2.1, but you have folium 0.8.3 which is incompatible.\u001b[0m\n",
            "Successfully installed lxml-4.9.0 requests-2.27.1 yfinance-0.1.70\n",
            "Looking in indexes: https://pypi.org/simple, https://us-python.pkg.dev/colab-wheels/public/simple/\n",
            "Collecting skrebate\n",
            "  Downloading skrebate-0.62.tar.gz (19 kB)\n",
            "Requirement already satisfied: numpy in /usr/local/lib/python3.7/dist-packages (from skrebate) (1.21.6)\n",
            "Requirement already satisfied: scipy in /usr/local/lib/python3.7/dist-packages (from skrebate) (1.4.1)\n",
            "Requirement already satisfied: scikit-learn in /usr/local/lib/python3.7/dist-packages (from skrebate) (1.0.2)\n",
            "Requirement already satisfied: joblib>=0.11 in /usr/local/lib/python3.7/dist-packages (from scikit-learn->skrebate) (1.1.0)\n",
            "Requirement already satisfied: threadpoolctl>=2.0.0 in /usr/local/lib/python3.7/dist-packages (from scikit-learn->skrebate) (3.1.0)\n",
            "Building wheels for collected packages: skrebate\n",
            "  Building wheel for skrebate (setup.py) ... \u001b[?25l\u001b[?25hdone\n",
            "  Created wheel for skrebate: filename=skrebate-0.62-py3-none-any.whl size=29271 sha256=bdfff411d9eee042b148ed754e3564dc5d3fcdba509374344084240a95e487b4\n",
            "  Stored in directory: /root/.cache/pip/wheels/4f/3b/07/22a9a01f3f25cd376122b5ef526737a44993b4c312e50916ed\n",
            "Successfully built skrebate\n",
            "Installing collected packages: skrebate\n",
            "Successfully installed skrebate-0.62\n"
          ]
        }
      ]
    },
    {
      "cell_type": "code",
      "metadata": {
        "id": "UAoseiodXfRq"
      },
      "source": [
        "# import necessary modules\n",
        "\n",
        "# General use\n",
        "import os\n",
        "import io\n",
        "import re\n",
        "import datetime\n",
        "\n",
        "import numpy as np\n",
        "import matplotlib.pyplot as plt\n",
        "\n",
        "# read_json(path_or_buf) -> DataFrame\n",
        "# DataFrame.iloc[idx] -> DataFrame `sub-frame at given index`\n",
        "import pandas as pd\n",
        "\n",
        "# Data collection\n",
        "import requests\n",
        "import random\n",
        "\n",
        "# why this here??\n",
        "# import time\n",
        "\n",
        "# googlefinance is a dead project\n",
        "# Google API has updated since, returns 403 error\n",
        "\n",
        "from get_all_tickers import get_tickers\n",
        "\n",
        "# download(tickers(list or string), period, interval) -> pd.DataFrame\n",
        "# ['Open', 'High', 'Low', 'Close', 'Adj Close', 'Volume'] per ticker per interval\n",
        "import yfinance\n",
        "\n",
        "# Go to docs.tweepy.org for OAuth setup\n",
        "# search_full_archive requires premium api subscription :(\n",
        "# API.search_full_archive()\n",
        "# max 100 matching tweets per page\n",
        "# would have to iterate through each page to get total count\n",
        "# API.search() -> SearchResults\n",
        "# import tweepy\n",
        "\n",
        "\n",
        "# Feature Selection\n",
        "\n",
        "# __init__(self, n_features_to_select=10, n_neighbors=100, discrete_threshold=10, verbose=False, n_jobs=1)\n",
        "# fit(self, X, y)\n",
        "# transform(self, X) -> X_reduced (n_features_to_select, )\n",
        "# fit_transform(self, X, y) = fit() && transform()\n",
        "# self.feature_importances_ contains weights but might not be accessible\n",
        "from skrebate import ReliefF\n",
        "\n",
        "\n",
        "\n",
        "# __init__(n_components=None, *, copy=True, whiten=False, svd_solver='auto', tol=0.0, iterated_power='auto', random_state=None)\n",
        "# n_components can be 'mle', an algo to guess the appropriate dimensionality\n",
        "# fit(self, X)\n",
        "# transform(self, X) -> X_new\n",
        "# fit_transform(self, X) = fit && transform\n",
        "from sklearn.decomposition import PCA\n",
        "from sklearn.model_selection import train_test_split\n",
        "\n",
        "\n",
        "\n",
        "# Classification\n",
        "\n",
        "from keras.models import Sequential, Model\n",
        "from keras import Input\n",
        "from keras.layers import Conv1D, LSTM, Dense\n",
        "from keras.layers import MaxPooling1D, Flatten, Dropout\n",
        "from keras.callbacks import ModelCheckpoint\n",
        "\n",
        "\n",
        "# Hyperparameter Tuning\n",
        "\n",
        "# a wrapper to allow sklearn to run *SearchCV on the keras model\n",
        "# __init__(self, build_fn)\n",
        "from keras.wrappers.scikit_learn import KerasClassifier\n",
        "\n",
        "# Don't know if I want to do a grid search or random search yet\n",
        "# guess it depends on the number of combinations i want to try\n",
        "\n",
        "# __init__(estimator, param_distributions, *, n_iter=10, scoring=None, n_jobs=None, verbose=0)\n",
        "# best_estimator -> estimator\n",
        "# best_score -> float\n",
        "# best_params -> dict\n",
        "from sklearn.model_selection import GridSearchCV, RandomizedSearchCV"
      ],
      "execution_count": null,
      "outputs": []
    },
    {
      "cell_type": "code",
      "metadata": {
        "id": "alGJ4EJ7Weme",
        "colab": {
          "base_uri": "https://localhost:8080/"
        },
        "outputId": "74692833-17e7-4b97-e9ef-7682cfe2aa17"
      },
      "source": [
        "# Constants\n",
        "\n",
        "os.chdir('/content/drive/MyDrive/stonks_model')\n",
        "\n",
        "CURRENT_DIR = os.getcwd()\n",
        "DATA_DIR = os.path.join(CURRENT_DIR, \"data\")\n",
        "\n",
        "SYMBOLS = []\n",
        "\n",
        "\n",
        "# Doing it this way will only get me data from current month,\n",
        "# which might actually be a good thing?\n",
        "# Real-time behavior is probably dependent on recent behavior,\n",
        "# i.e. acceptable overfitting\n",
        "\n",
        "INTERVAL = '30m'\n",
        "D59 = datetime.timedelta(days=59)\n",
        "D6 = datetime.timedelta(days=6)\n",
        "PERIOD = '60d'\n",
        "\n",
        "\n",
        "START_DATE = datetime.date.today() - D59\n",
        "END_DATE = datetime.date.today()\n",
        "\n",
        "INPUT_DAYS = 10\n",
        "RESULT_DAYS = 2\n",
        "\n",
        "\n",
        "START_STR = START_DATE.strftime('%Y-%m-%d')\n",
        "END_STR = END_DATE.strftime('%Y-%m-%d')\n",
        "print(START_STR, END_STR)\n",
        "\n",
        "\n",
        "INPUT_NUM_INTERVALS = int(INPUT_DAYS*9.5*60/15)\n",
        "RESULT_INTERVAL_BUFFER = int(RESULT_DAYS*9.5*60/15)\n",
        "\n",
        "# roughly 50% of tickers from symbol source have NaNs\n",
        "# so num_tickers should be x2 the desired number\n",
        "NUM_TICKERS = 10\n",
        "\n",
        "# class index 0 is predicting the stock will be higher \n",
        "# class index 1 is predicting the stock will be lower\n",
        "CLASS_WEIGHT = {0: 50., 1: 1.}\n",
        "\n",
        "# interpret yfinance interval input for period conversion\n",
        "INTERVAL_DICT = {'1m': 1, '2m': 2, '5m': 5, '15m': 15, '30m': 30, '60m': 60, '90m': 90}\n",
        "PRICE_LABELS = ['Open', 'High', 'Low', 'Close', 'Adj Close', 'Volume']"
      ],
      "execution_count": null,
      "outputs": [
        {
          "output_type": "stream",
          "name": "stdout",
          "text": [
            "2022-04-08 2022-06-06\n"
          ]
        }
      ]
    },
    {
      "cell_type": "code",
      "metadata": {
        "colab": {
          "base_uri": "https://localhost:8080/"
        },
        "id": "Au4IzFp48jsc",
        "outputId": "89604203-a9f4-4c9a-e066-2dc90c8c6da1"
      },
      "source": [
        "print(START_DATE.weekday())\n",
        "\n",
        "aapl = yfinance.Ticker(\"AAPL\")\n",
        "print(aapl.history(interval='30m', start=START_STR, end=END_STR).iloc[-1])"
      ],
      "execution_count": null,
      "outputs": [
        {
          "output_type": "stream",
          "name": "stdout",
          "text": [
            "4\n",
            "Open            146.139999\n",
            "High            146.139999\n",
            "Low             146.139999\n",
            "Close           146.139999\n",
            "Volume            0.000000\n",
            "Dividends         0.000000\n",
            "Stock Splits      0.000000\n",
            "Name: 2022-06-06 16:00:00-04:00, dtype: float64\n"
          ]
        }
      ]
    },
    {
      "cell_type": "markdown",
      "metadata": {
        "id": "72s0ReYD9qtv"
      },
      "source": [
        "# Download input stock data"
      ]
    },
    {
      "cell_type": "code",
      "metadata": {
        "id": "KalwmjBSj5pW"
      },
      "source": [
        "def clean_data(data):\n",
        "  drop = False\n",
        "  dropcount = 0\n",
        "  print(\"Starting with {} tickers\".format(len(data.columns.unique(level=0))))\n",
        "  for ticker in data.columns.unique(level=0):\n",
        "    drop = False\n",
        "    for price_label in data.columns.unique(level=1):\n",
        "      for datapoint in data[ticker][price_label]:\n",
        "        if np.isnan(datapoint):\n",
        "          drop = True\n",
        "          break\n",
        "    if drop:\n",
        "      dropcount += 1\n",
        "      data.drop(columns=ticker, level=0, axis=1, inplace=True)\n",
        "  print(\"{} tickers dropped for NaN values\".format(dropcount))\n",
        "  return data\n",
        "\n",
        "def download_data(num_tickers):\n",
        "\n",
        "  listings = pd.read_csv(os.path.join(DATA_DIR, 'symbols.csv'))\n",
        "  symbols = listings['Symbol'].tolist()\n",
        "  \n",
        "  symbol_subset = random.sample(symbols, num_tickers)\n",
        "\n",
        "  data = yfinance.download(symbol_subset, start=START_STR, end=END_STR, interval=INTERVAL, group_by='ticker')\n",
        "  return clean_data(data)\n",
        "\n",
        "# for testing functions\n",
        "def download_ticker(symbol):\n",
        "  return yfinance.download(symbol, start=START_STR, end=END_STR, interval=INTERVAL, group_by='ticker')\n",
        "\n",
        "def download_prediction_tickers(symbols):\n",
        "  data = yfinance.download(symbols, period=PERIOD, interval=INTERVAL, group_by='ticker')\n",
        "  print(data)\n",
        "  return data[-191:]"
      ],
      "execution_count": null,
      "outputs": []
    },
    {
      "cell_type": "code",
      "metadata": {
        "colab": {
          "base_uri": "https://localhost:8080/"
        },
        "id": "HpBA1Q9EHofo",
        "outputId": "8601fe16-479a-47f0-8653-b3fa29261bef"
      },
      "source": [
        "print(download_data(100).shape)"
      ],
      "execution_count": null,
      "outputs": [
        {
          "output_type": "stream",
          "name": "stdout",
          "text": [
            "[*********************100%***********************]  100 of 100 completed\n",
            "\n",
            "17 Failed downloads:\n",
            "- VACQU: No data found, symbol may be delisted\n",
            "- CHKEZ: No data found for this date range, symbol may be delisted\n",
            "- FLIR: No data found, symbol may be delisted\n",
            "- SMTX: No data found, symbol may be delisted\n",
            "- CMFNL: No data found, symbol may be delisted\n",
            "- TDAC: No data found, symbol may be delisted\n",
            "- BOKFL: No data found, symbol may be delisted\n",
            "- BFT: No data found, symbol may be delisted\n",
            "- BHTG: No data found, symbol may be delisted\n",
            "- HMI: No data found, symbol may be delisted\n",
            "- STND: No data found, symbol may be delisted\n",
            "- JIH: No data found, symbol may be delisted\n",
            "- HOFVW: No data found for this date range, symbol may be delisted\n",
            "- CMD: No data found, symbol may be delisted\n",
            "- CENHU: No data found, symbol may be delisted\n",
            "- AJAX: No data found, symbol may be delisted\n",
            "- SC: No data found, symbol may be delisted\n",
            "Starting with 100 tickers\n",
            "79 tickers dropped for NaN values\n",
            "(508, 126)\n"
          ]
        }
      ]
    },
    {
      "cell_type": "markdown",
      "metadata": {
        "id": "skT1XR8RBGip"
      },
      "source": [
        "# Define technical indicators"
      ]
    },
    {
      "cell_type": "code",
      "metadata": {
        "id": "rT7oldTGBhrR"
      },
      "source": [
        "# What indicators do I want in my dataset?\n",
        "\n",
        "# for each func expecting pd.DataFrame\n",
        "# with list of prices of form\n",
        "# ['Open', 'High', 'Low', 'Close', 'Adj Close', 'Volume']\n",
        "\n",
        "# what interval do we want\n",
        "# what price point do we want? low, close?\n",
        "# period is in intervals\n",
        "\n",
        "# final\n",
        "def SMA(data, period=10):\n",
        "  sma = np.zeros(len(data))\n",
        "\n",
        "  for i in range(period-1, len(data)):\n",
        "      sma[i] = sum(data['Close'][i-period+1:i+1])/period\n",
        "\n",
        "  return sma\n",
        "\n",
        "# final\n",
        "def EMA(data, period=8, smoothing=2):\n",
        "  ema = np.zeros(len(data))\n",
        "\n",
        "  ema[period-1] = np.average(data['Close'][:period])\n",
        "  for i in range(period, len(data)):\n",
        "    ema[i] = (data['Close'][i] - ema[i-1]) * smoothing/(1+period) + ema[i-1]\n",
        "\n",
        "  return ema\n",
        "\n",
        "# Range of 0 to 100\n",
        "# final\n",
        "def RSI(data, period=14):\n",
        "  changes = np.zeros((len(data), 2))\n",
        "  rsi = np.zeros(len(data))\n",
        "  avg_up = 0\n",
        "  avg_down = 0\n",
        "\n",
        "  # First calculation\n",
        "  # Use basic average for period gains and losses\n",
        "  for i in range(1, period+1):\n",
        "    change = data['Close'][i] - data['Close'][i-1]\n",
        "    changes[i] = (0 if change == 0 else int(change/np.abs(change)), np.abs(change))\n",
        "  ups = [change for (label, change) in changes[:period+1] if label == 1]\n",
        "  downs = [change for (label, change) in changes[:period+1] if label == -1]\n",
        "  if len(ups) == 0:\n",
        "    avg_up = 0\n",
        "    rsi[period] = 0\n",
        "  elif len(downs) == 0:\n",
        "    avg_down = 0\n",
        "    rsi[period] = 100\n",
        "  else:\n",
        "    avg_up = np.average(ups)\n",
        "    avg_down = np.average(downs)\n",
        "    rsi[period] = 100 - 100 / (1 + avg_up/avg_down)\n",
        "\n",
        "  # Following calculations\n",
        "  # Use Wilder smoothing for average gains and losses\n",
        "  for i in range(period+1, len(data)):\n",
        "    change = data['Close'][i] - data['Close'][i-1]\n",
        "    changes[i] = (0 if change == 0 else int(change/np.abs(change)), np.abs(change))\n",
        "\n",
        "    if changes[i][0] == 1:\n",
        "      avg_up = (avg_up*(period-1) + changes[i][1])/period\n",
        "      avg_down = avg_down*(period-1)/period\n",
        "    elif changes[i][0] == -1:\n",
        "      avg_down = (avg_down*(period-1) + changes[i][1])/period\n",
        "      avg_up = avg_up*(period-1)/period\n",
        "\n",
        "    if avg_down == 0:\n",
        "      rsi[i] = 100\n",
        "    else:\n",
        "      rsi[i] = 100 - (100/(1+(avg_up/avg_down)))\n",
        "  return rsi\n",
        "\n",
        "#final\n",
        "def K_percent(data, period=5):\n",
        "  k_percent = np.zeros(len(data))\n",
        "\n",
        "  for i in range(period-1, len(data)):\n",
        "    period_low = min(data['Low'][i-period+1:i+1])\n",
        "    period_high = max(data['High'][i-period+1:i+1])\n",
        "    if period_high == period_low :\n",
        "      print('kp: div0 at phigh - plow')\n",
        "    k_percent[i] = (data['Close'][i] - period_low)/(period_high - period_low) * 100\n",
        "\n",
        "  return k_percent\n",
        "\n",
        "# final\n",
        "def VWAP(data):\n",
        "  vwap = np.zeros(len(data))\n",
        "\n",
        "  curr_date = ''\n",
        "  pv = 0\n",
        "  vol = 0\n",
        "  for i in range(len(data)):\n",
        "      typ_price = np.average([data['High'][i], data['Low'][i], data['Close'][i]])\n",
        "      curr_vol = data['Volume'][i]\n",
        "\n",
        "      # check if datapoint is on a new day -> VWAP resets\n",
        "      date = re.search(r\"\\d{4}-\\d{2}-\\d{2}\", str(data.iloc[i].name)).group(0)\n",
        "      if not date == curr_date:\n",
        "        curr_date = date\n",
        "        pv = typ_price*curr_vol\n",
        "        vol = curr_vol\n",
        "      else:\n",
        "        pv += typ_price*curr_vol\n",
        "        vol += curr_vol\n",
        "\n",
        "      if vol == 0:\n",
        "        vwap[i] = 0\n",
        "      else:\n",
        "        vwap[i] = pv/vol\n",
        "\n",
        "  return vwap\n",
        "\n",
        "# final\n",
        "# subtracts 26-period EMA from 12-period EMA\n",
        "def MACD(data):\n",
        "  macd = np.zeros(len(data))\n",
        "\n",
        "  ema26 = EMA(data, period=26)\n",
        "  ema12 = EMA(data, period=12)\n",
        "  macd = np.array([ema26[i]-ema12[i] for i in range(len(data))])\n",
        "  return macd\n",
        "\n",
        "#final\n",
        "def CCI(data, period=20):\n",
        "  cci = np.zeros(len(data))\n",
        "\n",
        "  ma = SMA(data, period)\n",
        "  typ_prices = [np.average([data['High'][i], data['Low'][i], data['Close'][i]]) \\\n",
        "               for i in range(len(data))]\n",
        "\n",
        "  for i in range(period-1, len(data)): \n",
        "    mean_dev = sum(np.abs(typ_prices[j] - ma[i]) for j in range(i-period+1, i+1) )/period\n",
        "    cci[i] = (typ_prices[i] - ma[i]) / (0.015 * mean_dev)\n",
        "    \n",
        "  return cci\n",
        "\n",
        "#final\n",
        "def ATR(data, period=14):\n",
        "  atr = np.zeros(len(data))\n",
        "  tr = np.zeros(len(data))\n",
        "\n",
        "\n",
        "  tr[0] = data['High'][0] - data['Low'][0]\n",
        "  for i in range(1, len(data)):\n",
        "    tr[i] = max( data['High'][i] - data[\"Low\"][i],\n",
        "             np.abs(data['High'][i] - data['Close'][i-1]),\n",
        "             np.abs(data['Low'][i] - data['Close'][i-1]) )\n",
        "  \n",
        "    if i == period-1:\n",
        "      atr[i] = np.average(tr[:period])\n",
        "    elif i >= period:\n",
        "      atr[i] = (atr[i-1]*(period-1) + tr[i]) / period\n",
        "\n",
        "  return atr\n",
        "\n",
        "#final\n",
        "def ADX(data, period=14):\n",
        "\n",
        "  dx = np.zeros(len(data))\n",
        "  adx = np.zeros(len(data))\n",
        "  pos_dm = np.zeros(len(data))\n",
        "  neg_dm = np.zeros(len(data))\n",
        "  smooth_pos_dm = np.zeros(len(data))\n",
        "  smooth_neg_dm = np.zeros(len(data))\n",
        "\n",
        "  atr = ATR(data, period)\n",
        "\n",
        "  for i in range(1, len(data)):\n",
        "    pos_dm[i] = data['High'][i] - data['High'][i-1]\n",
        "    neg_dm[i] = data['Low'][i-1] - data['Low'][i]\n",
        "\n",
        "    if pos_dm[i] < neg_dm[i] or pos_dm[i] < 0:\n",
        "      pos_dm[i] = 0\n",
        "    if neg_dm[i] < pos_dm[i] or neg_dm[i] < 0:\n",
        "      neg_dm[i] = 0\n",
        "\n",
        "    if i == period-1:\n",
        "      smooth_pos_dm[i] = np.average(pos_dm[:period])\n",
        "      smooth_neg_dm[i] = np.average(neg_dm[:period])\n",
        "\n",
        "      pos_di = 100*smooth_pos_dm[i]/atr[i]\n",
        "      neg_di = 100*smooth_neg_dm[i]/atr[i]\n",
        "\n",
        "      dx[i] = 100 * np.abs(pos_di - neg_di)/np.abs(pos_di + neg_di)\n",
        "\n",
        "      adx[i] = np.average(dx[:period])\n",
        "    elif i >= period:\n",
        "      smooth_pos_dm[i] = (smooth_pos_dm[i-1] * (period-1) + pos_dm[i])/period\n",
        "      smooth_neg_dm[i] = (smooth_neg_dm[i-1] * (period-1) + neg_dm[i])/period\n",
        "\n",
        "      pos_di = 100 * smooth_pos_dm[i]/atr[i]\n",
        "      neg_di = 100 * smooth_neg_dm[i]/atr[i]\n",
        "\n",
        "      dx[i] = 100 * np.abs(pos_di - neg_di)/np.abs(pos_di + neg_di)\n",
        "\n",
        "      adx[i] = (adx[i-1]*(period-1) + dx[i])/period\n",
        "\n",
        "  return adx\n",
        "\n",
        "#final\n",
        "def BBAND_UP(data, period=20, std_range=2):\n",
        "  typ_prices = np.zeros(len(data))\n",
        "  tp_std = np.zeros(len(data))\n",
        "\n",
        "  typ_prices = [np.average([data['High'][i], data['Low'][i], data['Close'][i]]) \\\n",
        "               for i in range(len(data))]\n",
        "  sma = SMA(data, period=period)\n",
        "  tp_std = [np.std(typ_prices[i-period+1:i+1]) if i >= period-1 else 0 for i in range(len(data))]\n",
        "  bolu = [ sma[i] + std_range * tp_std[i] for i in range(len(data)) ]\n",
        "  return bolu\n",
        "\n",
        "#final\n",
        "def BBAND_DOWN(data, period=20, std_range=2):\n",
        "  typ_prices = np.zeros(len(data))\n",
        "  tp_std = np.zeros(len(data))\n",
        "\n",
        "  typ_prices = [np.average([data['High'][i], data['Low'][i], data['Close'][i]]) \\\n",
        "               for i in range(len(data))]\n",
        "  sma = SMA(data, period=period)\n",
        "  tp_std = [np.std(typ_prices[i-period+1:i+1]) if i >= period-1 else 0 for i in range(len(data))]\n",
        "  bold = [ sma[i] - std_range * tp_std[i] for i in range(len(data)) ]\n",
        "  return bold"
      ],
      "execution_count": null,
      "outputs": []
    },
    {
      "cell_type": "code",
      "metadata": {
        "colab": {
          "base_uri": "https://localhost:8080/",
          "height": 285
        },
        "id": "NYOfj_aZU4Lx",
        "outputId": "bc52bd4a-0c2b-40a4-8d45-e6d0060153ef"
      },
      "source": [
        "# Test functions\n",
        "amzn = download_ticker('AMZN')\n",
        "bolu = BBAND_UP(amzn)[-20:]\n",
        "bold = BBAND_DOWN(amzn)[-20:]\n",
        "plt.plot(list(amzn['Close'][-20:]))\n",
        "plt.plot(bolu)\n",
        "plt.plot(bold)\n",
        "\n",
        "\n",
        "plt.show()"
      ],
      "execution_count": null,
      "outputs": [
        {
          "output_type": "stream",
          "name": "stdout",
          "text": [
            "\r[*********************100%***********************]  1 of 1 completed\n"
          ]
        },
        {
          "output_type": "display_data",
          "data": {
            "text/plain": [
              "<Figure size 432x288 with 1 Axes>"
            ],
            "image/png": "[encoded data removed]"
          },
          "metadata": {
            "needs_background": "light"
          }
        }
      ]
    },
    {
      "cell_type": "markdown",
      "metadata": {
        "id": "obKvQgsmB-8V"
      },
      "source": [
        "# Build datasets"
      ]
    },
    {
      "cell_type": "code",
      "metadata": {
        "id": "foFcfzrG5KB7"
      },
      "source": [
        "# normalization functions\n",
        "\n",
        "# sigmoid is cumulative distribution function for normally distributed data\n",
        "# i.e. -inf to inf with \n",
        "def sigmoid(x):\n",
        "  X = np.array(x)\n",
        "  return 1 / (1 + np.exp(-X))\n",
        "\n",
        "# exp_norm is cdf for exponentially distributed data\n",
        "# i.e. 0 to inf with values closer to inf less likely\n",
        "def exp_norm(x):\n",
        "  X = np.array(x)\n",
        "  return 1 - np.exp(-X/np.average(X))\n",
        "\n",
        "def percent(x):\n",
        "  X = np.array(x)\n",
        "  return X / 100"
      ],
      "execution_count": null,
      "outputs": []
    },
    {
      "cell_type": "code",
      "metadata": {
        "id": "64FAyA8aJMSm"
      },
      "source": [
        "# Correlating function and normalization function for each indicator\n",
        "TECH_INDICATORS = {'SMA': (SMA, exp_norm),\n",
        "                  'EMA': (EMA, exp_norm),\n",
        "                  'RSI': (RSI, percent),\n",
        "                  'K_percent': (K_percent, percent),\n",
        "                  'VWAP': (VWAP, exp_norm),\n",
        "                  'MACD': (MACD, sigmoid),\n",
        "                  'CCI': (CCI, sigmoid),\n",
        "                  'ATR': (ATR, exp_norm),\n",
        "                  'ADX': (ADX, percent),\n",
        "                  'BBAND_UP': (BBAND_UP, exp_norm),\n",
        "                  'BBAND_DOWN': (BBAND_DOWN, exp_norm)}"
      ],
      "execution_count": null,
      "outputs": []
    },
    {
      "cell_type": "code",
      "metadata": {
        "colab": {
          "base_uri": "https://localhost:8080/",
          "height": 299
        },
        "id": "c-A3YIxnBlGO",
        "outputId": "59f6f402-d677-42b6-8c0c-4be3e89a1c96"
      },
      "source": [
        "# Test normalization\n",
        "\n",
        "sma = exp_norm(SMA(download_ticker('TSLA')))[-20:]\n",
        "ema = exp_norm(EMA(download_ticker('TSLA')))[-20:]\n",
        "plt.plot(sma)\n",
        "plt.plot(ema)\n",
        "plt.show()"
      ],
      "execution_count": null,
      "outputs": [
        {
          "output_type": "stream",
          "name": "stdout",
          "text": [
            "[*********************100%***********************]  1 of 1 completed\n",
            "[*********************100%***********************]  1 of 1 completed\n"
          ]
        },
        {
          "output_type": "display_data",
          "data": {
            "text/plain": [
              "<Figure size 432x288 with 1 Axes>"
            ],
            "image/png": "[encoded data removed]"
          },
          "metadata": {
            "needs_background": "light"
          }
        }
      ]
    },
    {
      "cell_type": "code",
      "metadata": {
        "id": "LCOoWYffrB2W"
      },
      "source": [
        "def normalize_dataset(data):\n",
        "  norm_data_index = data.index.values\n",
        "  norm_data_columns = pd.MultiIndex.from_product([data.columns.unique(level=0), \\\n",
        "                                                PRICE_LABELS + list(TECH_INDICATORS.keys())])\n",
        "  norm_data = pd.DataFrame(index=norm_data_index, columns=norm_data_columns)\n",
        "\n",
        "  print('normalizing data', data)\n",
        "  for ticker in data.columns.unique(level=0):\n",
        "\n",
        "    print(\"Building data for\", ticker)\n",
        "\n",
        "    # Normalize prices\n",
        "    for price_label in PRICE_LABELS:\n",
        "      #print(price_label)\n",
        "      norm_price = exp_norm(data[ticker][price_label])\n",
        "      #norm_data.insert(loc=len(norm_data.columns), column=(ticker, price_label), value=norm_price)\n",
        "      norm_data[ticker, price_label] = norm_price\n",
        "\n",
        "    # Add technical indicators\n",
        "    for indicator_name in TECH_INDICATORS.keys():\n",
        "      #print(indicator_name)\n",
        "      ind_func = TECH_INDICATORS[indicator_name][0]\n",
        "      func_norm = TECH_INDICATORS[indicator_name][1]\n",
        "      #norm_data.insert(loc=len(norm_data.columns), column=(ticker, indicator_name), value=func_norm(ind_func(data[ticker])))\n",
        "      norm_data[ticker, indicator_name] = func_norm(ind_func(data[ticker]))\n",
        "\n",
        "  return norm_data\n",
        "\n",
        "\n",
        "# split each ticker history into X = (F MTWTF MTWT), _=F MT ,y = W\n",
        "# if a day is missing, fill with all price vals = previous day open\n",
        "\n",
        "# first friday needs to be at least 2 days after start of dataset\n",
        "# for technical indicators to develop\n",
        "\n",
        "# do i need a buffer for the last wednesday\n",
        "# since yfinance seems to do iffy things with the current day values\n",
        "\n",
        "# data instances will overlap:\n",
        "# data: F MTWTF MTWTF MTWTF MTWTF MTW\n",
        "# i=0 : ______X_____    y\n",
        "# i=1 :       ______X_____    y\n",
        "# i=2 :             ______X_____    y\n",
        "#def split_dataset(data):\n",
        "\n",
        "def build_dataset(data):\n",
        "  norm_data = normalize_dataset(data)\n",
        "  X = np.array([norm_data[ticker][i-INPUT_NUM_INTERVALS:i+1] \\\n",
        "       for ticker in norm_data.columns.unique(level=0) \\\n",
        "       for i in range(INPUT_NUM_INTERVALS, len(norm_data[ticker].index) - RESULT_INTERVAL_BUFFER)])\n",
        "  y = np.array([[1,0] if norm_data[ticker]['Close'][i] >= 1.0*norm_data[ticker]['Close'][i-RESULT_INTERVAL_BUFFER] else [0,1] \\\n",
        "       for ticker in norm_data.columns.unique(level=0) \\\n",
        "       for i in range(INPUT_NUM_INTERVALS + RESULT_INTERVAL_BUFFER, len(norm_data[ticker].index))])\n",
        "  \n",
        "  \n",
        "  return X, y\n",
        "# For prediction data we need latest sequence of F MTWTF MTWT\n",
        "# assuming we are running this on a thursday evening to make buys on following friday\n",
        "# get latest thurdsay to 2nd friday before that date\n",
        "def build_prediction_data(data):\n",
        "  norm_data = normalize_dataset(data)\n",
        "  X = np.array([norm_data[ticker] \\\n",
        "       for ticker in norm_data.columns.unique(level=0)])\n",
        "  return X"
      ],
      "execution_count": null,
      "outputs": []
    },
    {
      "cell_type": "code",
      "metadata": {
        "id": "3jeZrIklEzmw",
        "colab": {
          "base_uri": "https://localhost:8080/"
        },
        "outputId": "02c6f4c1-3c4f-438d-9438-5c94a580f9f4"
      },
      "source": [
        "# 100 might be the max number of tickers we can download at once\n",
        "X, y = build_dataset(download_data(90))"
      ],
      "execution_count": null,
      "outputs": [
        {
          "output_type": "stream",
          "name": "stdout",
          "text": [
            "[*********************100%***********************]  90 of 90 completed\n",
            "\n",
            "10 Failed downloads:\n",
            "- BSA: No data found, symbol may be delisted\n",
            "- LOAC: No data found, symbol may be delisted\n",
            "- SPKE: No data found, symbol may be delisted\n",
            "- CFX: No data found for this date range, symbol may be delisted\n",
            "- HCARW: No data found for this date range, symbol may be delisted\n",
            "- CCX: No data found, symbol may be delisted\n",
            "- RIVE: No data found, symbol may be delisted\n",
            "- STWOU: No data found for this date range, symbol may be delisted\n",
            "- FLXN: No data found, symbol may be delisted\n",
            "- CREE: No data found, symbol may be delisted\n",
            "Starting with 90 tickers\n",
            "50 tickers dropped for NaN values\n",
            "normalizing data                             MGNX                                        \\\n",
            "                            Open  High    Low  Close Adj Close  Volume   \n",
            "Datetime                                                                 \n",
            "2022-04-08 09:30:00-04:00  9.460  9.46  9.040  9.040     9.040   21368   \n",
            "2022-04-08 10:00:00-04:00  9.040  9.12  8.980  9.120     9.120   19748   \n",
            "2022-04-08 10:30:00-04:00  9.110  9.14  9.040  9.100     9.100    5374   \n",
            "2022-04-08 11:00:00-04:00  9.100  9.16  9.080  9.100     9.100   12683   \n",
            "2022-04-08 11:30:00-04:00  9.135  9.19  9.120  9.135     9.135    7232   \n",
            "...                          ...   ...    ...    ...       ...     ...   \n",
            "2022-06-03 14:00:00-04:00  3.351  3.40  3.350  3.365     3.365   57095   \n",
            "2022-06-03 14:30:00-04:00  3.365  3.37  3.345  3.350     3.350   48914   \n",
            "2022-06-03 15:00:00-04:00  3.345  3.35  3.310  3.325     3.325   44639   \n",
            "2022-06-03 15:30:00-04:00  3.320  3.36  3.280  3.340     3.340  198598   \n",
            "2022-06-06 16:00:00-04:00  3.060  3.06  3.060  3.060     3.060       0   \n",
            "\n",
            "                             HIMS                       ...        WRK  \\\n",
            "                             Open   High    Low  Close  ...        Low   \n",
            "Datetime                                                ...              \n",
            "2022-04-08 09:30:00-04:00  4.9500  4.950  4.805  4.810  ...  46.439999   \n",
            "2022-04-08 10:00:00-04:00  4.8100  4.870  4.780  4.855  ...  46.724998   \n",
            "2022-04-08 10:30:00-04:00  4.8650  4.890  4.815  4.880  ...  46.980000   \n",
            "2022-04-08 11:00:00-04:00  4.8800  4.920  4.860  4.875  ...  47.285000   \n",
            "2022-04-08 11:30:00-04:00  4.8785  4.890  4.835  4.890  ...  47.270000   \n",
            "...                           ...    ...    ...    ...  ...        ...   \n",
            "2022-06-03 14:00:00-04:00  4.0500  4.100  4.040  4.080  ...  49.257500   \n",
            "2022-06-03 14:30:00-04:00  4.0750  4.080  4.060  4.070  ...  49.290001   \n",
            "2022-06-03 15:00:00-04:00  4.0700  4.075  4.030  4.055  ...  49.210999   \n",
            "2022-06-03 15:30:00-04:00  4.0550  4.080  4.040  4.060  ...  49.029999   \n",
            "2022-06-06 16:00:00-04:00  4.1500  4.150  4.150  4.150  ...  48.590000   \n",
            "\n",
            "                                                              LSPD             \\\n",
            "                               Close  Adj Close  Volume       Open       High   \n",
            "Datetime                                                                        \n",
            "2022-04-08 09:30:00-04:00  46.720001  46.720001   59011  27.770000  27.809999   \n",
            "2022-04-08 10:00:00-04:00  47.009998  47.009998   83184  26.740000  27.540001   \n",
            "2022-04-08 10:30:00-04:00  47.450001  47.450001   87817  27.420000  27.540001   \n",
            "2022-04-08 11:00:00-04:00  47.380001  47.380001   84782  27.230000  27.440001   \n",
            "2022-04-08 11:30:00-04:00  47.320000  47.320000   54840  27.100000  27.389999   \n",
            "...                              ...        ...     ...        ...        ...   \n",
            "2022-06-03 14:00:00-04:00  49.520000  49.520000   83785  26.910000  27.139999   \n",
            "2022-06-03 14:30:00-04:00  49.349998  49.349998   81054  27.100000  27.100000   \n",
            "2022-06-03 15:00:00-04:00  49.290001  49.290001  165841  27.040001  27.129999   \n",
            "2022-06-03 15:30:00-04:00  49.270000  49.270000  458746  27.125000  27.305000   \n",
            "2022-06-06 16:00:00-04:00  48.590000  48.590000       0  27.450001  27.450001   \n",
            "\n",
            "                                                                    \n",
            "                                 Low      Close  Adj Close  Volume  \n",
            "Datetime                                                            \n",
            "2022-04-08 09:30:00-04:00  26.750000  26.770000  26.770000   37943  \n",
            "2022-04-08 10:00:00-04:00  26.680000  27.410000  27.410000   67848  \n",
            "2022-04-08 10:30:00-04:00  26.880400  27.230000  27.230000   48899  \n",
            "2022-04-08 11:00:00-04:00  27.040001  27.120001  27.120001   28011  \n",
            "2022-04-08 11:30:00-04:00  26.990000  27.120001  27.120001   45341  \n",
            "...                              ...        ...        ...     ...  \n",
            "2022-06-03 14:00:00-04:00  26.870001  27.090000  27.090000   29390  \n",
            "2022-06-03 14:30:00-04:00  26.920000  27.020000  27.020000   22823  \n",
            "2022-06-03 15:00:00-04:00  26.950001  27.120001  27.120001   55998  \n",
            "2022-06-03 15:30:00-04:00  27.080000  27.250000  27.250000  177637  \n",
            "2022-06-06 16:00:00-04:00  27.450001  27.450001  27.450001       0  \n",
            "\n",
            "[508 rows x 240 columns]\n",
            "Building data for MGNX\n",
            "Building data for HIMS\n",
            "Building data for LBRT\n",
            "Building data for HGV\n",
            "Building data for XP\n",
            "Building data for BCOR\n",
            "Building data for RHP\n",
            "Building data for TW\n",
            "Building data for REYN\n",
            "Building data for RIOT\n",
            "Building data for APOG\n",
            "Building data for WW\n",
            "Building data for AHT\n",
            "Building data for PRFT\n",
            "Building data for MLM\n",
            "Building data for RA\n",
            "Building data for AIV\n",
            "Building data for URBN\n",
            "Building data for LGND\n",
            "Building data for NFG\n",
            "Building data for MFGP\n",
            "Building data for EMKR\n",
            "Building data for ERF\n",
            "Building data for OPI\n",
            "Building data for ENSV\n",
            "Building data for FCX\n",
            "Building data for EBON\n",
            "Building data for PDFS\n",
            "Building data for TTC\n",
            "Building data for CUTR\n",
            "Building data for MP\n",
            "Building data for WIX\n",
            "Building data for AI\n",
            "Building data for HEI\n",
            "Building data for AIMC\n",
            "Building data for BIP\n",
            "Building data for TKR\n",
            "Building data for EXPO\n",
            "Building data for WRK\n",
            "Building data for LSPD\n"
          ]
        }
      ]
    },
    {
      "cell_type": "code",
      "metadata": {
        "id": "qnzHG_JDNrqD",
        "colab": {
          "base_uri": "https://localhost:8080/"
        },
        "outputId": "031058c3-7823-457f-de95-42aa94bc3dd6"
      },
      "source": [
        "print(X.shape)\n",
        "print(y.shape)\n",
        "print(X)"
      ],
      "execution_count": null,
      "outputs": [
        {
          "output_type": "stream",
          "name": "stdout",
          "text": [
            "(2080, 381, 17)\n",
            "(2080, 2)\n",
            "[[[0.80362656 0.80086758 0.79219231 ... 0.         0.         0.        ]\n",
            "  [0.78890979 0.78897623 0.79001395 ... 0.         0.         0.        ]\n",
            "  [0.79143702 0.78969499 0.79219231 ... 0.         0.         0.        ]\n",
            "  ...\n",
            "  [0.50697142 0.5069266  0.49797868 ... 0.30189124 0.49553981 0.51199646]\n",
            "  [0.49581885 0.49457804 0.49315689 ... 0.2870996  0.49572732 0.51188806]\n",
            "  [0.48970949 0.48855008 0.49050733 ... 0.26926082 0.49561023 0.51192111]]\n",
            "\n",
            " [[0.78890979 0.78897623 0.79001395 ... 0.         0.         0.        ]\n",
            "  [0.79143702 0.78969499 0.79219231 ... 0.         0.         0.        ]\n",
            "  [0.79107788 0.79041127 0.79363197 ... 0.         0.         0.        ]\n",
            "  ...\n",
            "  [0.49581885 0.49457804 0.49315689 ... 0.2870996  0.49572732 0.51188806]\n",
            "  [0.48970949 0.48855008 0.49050733 ... 0.26926082 0.49561023 0.51192111]\n",
            "  [0.4888307  0.48719593 0.48917735 ... 0.25066002 0.49574014 0.51215106]]\n",
            "\n",
            " [[0.79143702 0.78969499 0.79219231 ... 0.         0.         0.        ]\n",
            "  [0.79107788 0.79041127 0.79363197 ... 0.         0.         0.        ]\n",
            "  [0.79233228 0.79148114 0.79506165 ... 0.         0.         0.        ]\n",
            "  ...\n",
            "  [0.48970949 0.48855008 0.49050733 ... 0.26926082 0.49561023 0.51192111]\n",
            "  [0.4888307  0.48719593 0.48917735 ... 0.25066002 0.49574014 0.51215106]\n",
            "  [0.48864596 0.48632039 0.48739865 ... 0.23485909 0.49577539 0.51215946]]\n",
            "\n",
            " ...\n",
            "\n",
            " [[0.67498395 0.67324945 0.6783935  ... 0.17542127 0.67873271 0.69671771]\n",
            "  [0.67496104 0.6759456  0.67696013 ... 0.16667913 0.679045   0.6967435 ]\n",
            "  [0.67724316 0.67693329 0.68081564 ... 0.16097373 0.68003765 0.6966417 ]\n",
            "  ...\n",
            "  [0.62560848 0.62464505 0.62871631 ... 0.13876755 0.62359021 0.64448512]\n",
            "  [0.62593808 0.62497228 0.62904636 ... 0.13251165 0.62504514 0.64376309]\n",
            "  [0.62708937 0.64347154 0.62473247 ... 0.14831088 0.6302362  0.64169897]]\n",
            "\n",
            " [[0.67496104 0.6759456  0.67696013 ... 0.16667913 0.679045   0.6967435 ]\n",
            "  [0.67724316 0.67693329 0.68081564 ... 0.16097373 0.68003765 0.6966417 ]\n",
            "  [0.67781117 0.67945929 0.67363911 ... 0.15998713 0.68024799 0.69658182]\n",
            "  ...\n",
            "  [0.62593808 0.62497228 0.62904636 ... 0.13251165 0.62504514 0.64376309]\n",
            "  [0.62708937 0.64347154 0.62473247 ... 0.14831088 0.6302362  0.64169897]\n",
            "  [0.64643949 0.65192104 0.64486552 ... 0.16944495 0.63701119 0.638415  ]]\n",
            "\n",
            " [[0.67724316 0.67693329 0.68081564 ... 0.16097373 0.68003765 0.6966417 ]\n",
            "  [0.67781117 0.67945929 0.67363911 ... 0.15998713 0.68024799 0.69658182]\n",
            "  [0.67280691 0.6716783  0.67305805 ... 0.16018028 0.68036296 0.69677062]\n",
            "  ...\n",
            "  [0.62708937 0.64347154 0.62473247 ... 0.14831088 0.6302362  0.64169897]\n",
            "  [0.64643949 0.65192104 0.64486552 ... 0.16944495 0.63701119 0.638415  ]\n",
            "  [0.64876722 0.64971308 0.64863563 ... 0.18906943 0.64274961 0.63607823]]]\n"
          ]
        }
      ]
    },
    {
      "cell_type": "markdown",
      "metadata": {
        "id": "F9PzI9qcA6yt"
      },
      "source": [
        "# Build feature selection algorithm"
      ]
    },
    {
      "cell_type": "code",
      "metadata": {
        "id": "3VLM_69tBi4b"
      },
      "source": [
        "# We have 17 features: 6 price features and 11 technical indicators at the moment\n",
        "\n",
        "# ReliefF might not be a good choice with only 17 features to analyze\n",
        "# not worth the runtime\n",
        "\n",
        "# PCA might still be useful though\n",
        "# would have to write a custom \n",
        "\n",
        "# relieff and pca expect 2d arrays: (num_samples, num_features)\n",
        "# so we remove the time series aspect of our training data\n",
        "# idk if this will work though\n",
        "def select_features(X, y, num_iter=10):\n",
        "  # Run this algo on a random selection of samples and average? the results\n",
        "  # this strategy works on PCA bu\n",
        "  #relieff_selector = ReliefF(n_features_to_select=15, n_neighbors=100, verbose=True, n_jobs=1)\n",
        "  pca = PCA(n_components='mle', svd_solver='auto')\n",
        "  for i in random.choices(range(len(X)), k=num_iter):\n",
        "    #relieff_selector.fit(X[i], y[i])\n",
        "    #scores = relieff_selector.feature_importances_\n",
        "    #print(scores)\n",
        "    X_reduced = pca.fit_transform(X[i])\n",
        "    print(pca.explained_variance_)"
      ],
      "execution_count": null,
      "outputs": []
    },
    {
      "cell_type": "code",
      "source": [
        "select_features(X, y)"
      ],
      "metadata": {
        "colab": {
          "base_uri": "https://localhost:8080/"
        },
        "id": "jgqo07Ogsead",
        "outputId": "4cb62717-00be-4921-a81e-568313fe3e4b"
      },
      "execution_count": null,
      "outputs": [
        {
          "output_type": "stream",
          "name": "stdout",
          "text": [
            "[2.77351145e-01 7.36048816e-02 3.62045342e-02 1.61875254e-02\n",
            " 7.84498611e-03 5.17116546e-03 1.50214815e-03 5.05225069e-04\n",
            " 3.17308816e-05 1.65280767e-05 1.02306551e-05 5.20734428e-06\n",
            " 3.43985248e-06 3.12968318e-06 1.44639472e-06 3.05053673e-07]\n",
            "[2.92913090e-01 7.04623187e-02 4.37567394e-02 2.77472353e-02\n",
            " 1.15979254e-02 5.19210190e-03 3.00593173e-03 1.31592622e-03\n",
            " 7.72948731e-04 2.55667047e-05 6.28143389e-06 3.12208571e-06\n",
            " 2.31990587e-06 1.60730260e-06 4.98845103e-07 1.64456628e-07]\n",
            "[2.38309781e-01 1.10171808e-01 7.00951567e-02 2.50398997e-02\n",
            " 1.16934114e-02 3.25080665e-03 1.78975939e-03 2.12605372e-04\n",
            " 1.45755273e-04 7.31506209e-05 2.55483361e-05 1.34338289e-05\n",
            " 8.85196833e-06 6.65178362e-06 2.00273531e-06 9.38354201e-07]\n",
            "[2.75654876e-01 7.00018175e-02 6.14738871e-02 1.78586177e-02\n",
            " 7.29599617e-03 3.67611308e-03 2.67116564e-03 9.77785614e-05\n",
            " 5.04726467e-05 2.04786051e-05 8.55629633e-06 5.89178981e-06\n",
            " 4.69220208e-06 3.47226643e-06 1.04357914e-06 3.30783250e-07]\n",
            "[3.06697028e-01 7.58355109e-02 3.24962685e-02 1.61119864e-02\n",
            " 1.40077378e-02 3.87934245e-03 2.17901104e-03 7.05913868e-04\n",
            " 1.51844374e-05 7.81183382e-06 2.64967147e-06 1.81972761e-06\n",
            " 1.39687229e-06 9.28395700e-07 2.90323350e-07 1.06967155e-07]\n",
            "[2.82450131e-01 7.53611270e-02 5.87660070e-02 8.19170655e-03\n",
            " 4.49024209e-03 2.40140410e-03 5.14783803e-04 1.62017625e-04\n",
            " 1.59601188e-05 7.46313035e-06 3.55166241e-06 2.97789651e-06\n",
            " 2.00218002e-06 1.31524230e-06 7.07625866e-07 1.88912359e-07]\n",
            "[3.14611060e-01 7.46736714e-02 3.69368053e-02 2.76176678e-02\n",
            " 8.96754773e-03 3.56076954e-03 1.97450523e-03 7.04401403e-04\n",
            " 2.92458900e-05 9.10981038e-06 3.91545872e-06 2.46278900e-06\n",
            " 1.75158265e-06 1.60763602e-06 4.44097651e-07 1.27296568e-07]\n",
            "[3.16147446e-01 7.43377972e-02 3.71562384e-02 2.75320917e-02\n",
            " 9.05469862e-03 3.57244700e-03 1.99203947e-03 7.03652207e-04\n",
            " 2.92245584e-05 9.08204782e-06 3.91644051e-06 2.46912080e-06\n",
            " 1.74905642e-06 1.58289014e-06 4.43052866e-07 1.27470103e-07]\n",
            "[2.81544802e-01 6.80510214e-02 5.29020470e-02 1.26472737e-02\n",
            " 6.77033638e-03 4.26062909e-03 1.89583279e-03 2.45466842e-04\n",
            " 3.61259598e-05 2.10794387e-05 5.78737446e-06 4.00699231e-06\n",
            " 2.93101832e-06 1.67350273e-06 5.80421414e-07 2.41352871e-07]\n",
            "[2.66308938e-01 6.04891839e-02 5.44562095e-02 1.67604898e-02\n",
            " 7.91405736e-03 5.45860970e-03 4.52776177e-04 1.40958832e-04\n",
            " 7.78349222e-06 4.27900173e-06 9.98201604e-07 8.32860191e-07\n",
            " 5.07620567e-07 3.15797849e-07 1.37075000e-07 3.87675745e-08]\n"
          ]
        }
      ]
    },
    {
      "cell_type": "markdown",
      "metadata": {
        "id": "VR8-gp3FA_do"
      },
      "source": [
        "# Build classifier"
      ]
    },
    {
      "cell_type": "code",
      "metadata": {
        "id": "aOj_8PVtBjV9"
      },
      "source": [
        "def build_model(conv_filters=32, conv_kernel_size=2, lstm_units=5, dropout_rate=0.01):\n",
        "  model = Sequential()\n",
        "  model.add(Conv1D(filters=conv_filters, kernel_size=conv_kernel_size, input_shape=(INPUT_NUM_INTERVALS+1, 17), activation='relu'))\n",
        "  model.add(Dropout(rate=dropout_rate))\n",
        "  model.add(LSTM(units=lstm_units))\n",
        "  model.add(Dropout(rate=dropout_rate))\n",
        "  model.add(Dense(2, activation='softmax'))\n",
        "  model.compile(loss='binary_crossentropy', optimizer='adam', metrics=['accuracy'])\n",
        "  \n",
        "  return model"
      ],
      "execution_count": null,
      "outputs": []
    },
    {
      "cell_type": "markdown",
      "metadata": {
        "id": "o88tSb1YBLfP"
      },
      "source": [
        "# Perform hyperparameter tuning"
      ]
    },
    {
      "cell_type": "code",
      "metadata": {
        "id": "X3AvRQmuBj29"
      },
      "source": [
        "def tune_hyperparameters(params, X, y):\n",
        "  X_train, X_test, y_train, y_test = train_test_split(X, y)\n",
        "  model = KerasClassifier(build_fn=build_model)\n",
        "  random_search = RandomizedSearchCV(model, param_distributions=params, n_iter=10, n_jobs=4, verbose=1)\n",
        "  random_search.fit(X_train, y_train, validation_data=(X_test, y_test), class_weight=CLASS_WEIGHT, batch_size=10, epochs=2, verbose=1)\n",
        "  print(\"Best params:\")\n",
        "  print(random_search.best_params_)\n",
        "  return random_search.best_estimator_ #, random_seach.best_score"
      ],
      "execution_count": null,
      "outputs": []
    },
    {
      "cell_type": "code",
      "metadata": {
        "id": "iSYaWRBNF4BD",
        "colab": {
          "base_uri": "https://localhost:8080/"
        },
        "outputId": "09b27d7b-ad10-441a-be3f-a2fc1ee7d082"
      },
      "source": [
        "params = {\n",
        "      'conv_filters': [16, 32, 64],\n",
        "      'conv_kernel_size': [1, 2, 4],\n",
        "      'lstm_units': [3, 5, 8],\n",
        "      'dropout_rate': [0.01, 0.1, 0.2]\n",
        "}\n",
        "\n",
        "best_model = tune_hyperparameters(params, X, y)"
      ],
      "execution_count": null,
      "outputs": [
        {
          "output_type": "stream",
          "text": [
            "Fitting 5 folds for each of 10 candidates, totalling 50 fits\n"
          ],
          "name": "stdout"
        },
        {
          "output_type": "stream",
          "text": [
            "[Parallel(n_jobs=4)]: Using backend LokyBackend with 4 concurrent workers.\n",
            "[Parallel(n_jobs=4)]: Done  42 tasks      | elapsed: 55.0min\n",
            "[Parallel(n_jobs=4)]: Done  50 out of  50 | elapsed: 63.2min finished\n"
          ],
          "name": "stderr"
        },
        {
          "output_type": "stream",
          "text": [
            "Epoch 1/2\n",
            "794/794 [==============================] - 51s 62ms/step - loss: 3.7878 - accuracy: 0.5783 - val_loss: 1.6954 - val_accuracy: 0.5955\n",
            "Epoch 2/2\n",
            "794/794 [==============================] - 49s 61ms/step - loss: 2.2342 - accuracy: 0.5747 - val_loss: 1.7063 - val_accuracy: 0.5955\n",
            "Best params:\n",
            "{'lstm_units': 8, 'dropout_rate': 0.01, 'conv_kernel_size': 2, 'conv_filters': 64}\n"
          ],
          "name": "stdout"
        }
      ]
    },
    {
      "cell_type": "code",
      "metadata": {
        "colab": {
          "base_uri": "https://localhost:8080/",
          "height": 163
        },
        "id": "v_7YLV3Gqc0d",
        "outputId": "3a1ba0b8-2f9f-4a1f-f4c4-4f1789485a9e"
      },
      "source": [
        "best_model.summary()"
      ],
      "execution_count": null,
      "outputs": [
        {
          "output_type": "error",
          "ename": "AttributeError",
          "evalue": "ignored",
          "traceback": [
            "\u001b[0;31m---------------------------------------------------------------------------\u001b[0m",
            "\u001b[0;31mAttributeError\u001b[0m                            Traceback (most recent call last)",
            "\u001b[0;32m<ipython-input-30-170280c199ea>\u001b[0m in \u001b[0;36m<module>\u001b[0;34m()\u001b[0m\n\u001b[0;32m----> 1\u001b[0;31m \u001b[0mbest_model\u001b[0m\u001b[0;34m.\u001b[0m\u001b[0msummary\u001b[0m\u001b[0;34m(\u001b[0m\u001b[0;34m)\u001b[0m\u001b[0;34m\u001b[0m\u001b[0;34m\u001b[0m\u001b[0m\n\u001b[0m",
            "\u001b[0;31mAttributeError\u001b[0m: 'KerasClassifier' object has no attribute 'summary'"
          ]
        }
      ]
    },
    {
      "cell_type": "markdown",
      "metadata": {
        "id": "bDoe-_ICBRXr"
      },
      "source": [
        " # Train"
      ]
    },
    {
      "cell_type": "code",
      "metadata": {
        "id": "OIYm0j1TBkL0"
      },
      "source": [
        "def train_model(model, X, y):\n",
        "  X_train, X_test, y_train, y_test = train_test_split(X, y)\n",
        "  history = model.fit(X_train, y_train, validation_data=(X_test, y_test), batch_size=10, epochs=100, verbose=1)#, class_weight=CLASS_WEIGHT)\n",
        "  return history"
      ],
      "execution_count": null,
      "outputs": []
    },
    {
      "cell_type": "code",
      "metadata": {
        "colab": {
          "base_uri": "https://localhost:8080/"
        },
        "id": "nJAqlyBkIliu",
        "outputId": "1d46aef4-fe72-4896-de80-cc6d4e64544b"
      },
      "source": [
        "model = build_model()\n",
        "history = train_model(model, X, y)"
      ],
      "execution_count": null,
      "outputs": [
        {
          "output_type": "stream",
          "name": "stdout",
          "text": [
            "Epoch 1/100\n",
            "156/156 [==============================] - 18s 102ms/step - loss: 0.4886 - accuracy: 0.8577 - val_loss: 0.3855 - val_accuracy: 0.8904\n",
            "Epoch 2/100\n",
            "156/156 [==============================] - 15s 97ms/step - loss: 0.4077 - accuracy: 0.8583 - val_loss: 0.3474 - val_accuracy: 0.8904\n",
            "Epoch 3/100\n",
            "156/156 [==============================] - 15s 95ms/step - loss: 0.4055 - accuracy: 0.8583 - val_loss: 0.3716 - val_accuracy: 0.8904\n",
            "Epoch 4/100\n",
            "156/156 [==============================] - 15s 94ms/step - loss: 0.4048 - accuracy: 0.8583 - val_loss: 0.3475 - val_accuracy: 0.8904\n",
            "Epoch 5/100\n",
            "156/156 [==============================] - 15s 97ms/step - loss: 0.4021 - accuracy: 0.8583 - val_loss: 0.3415 - val_accuracy: 0.8904\n",
            "Epoch 6/100\n",
            "156/156 [==============================] - 17s 108ms/step - loss: 0.4008 - accuracy: 0.8583 - val_loss: 0.3395 - val_accuracy: 0.8904\n",
            "Epoch 7/100\n",
            "156/156 [==============================] - 14s 92ms/step - loss: 0.4005 - accuracy: 0.8583 - val_loss: 0.3375 - val_accuracy: 0.8904\n",
            "Epoch 8/100\n",
            "156/156 [==============================] - 15s 94ms/step - loss: 0.4024 - accuracy: 0.8583 - val_loss: 0.3364 - val_accuracy: 0.8904\n",
            "Epoch 9/100\n",
            "156/156 [==============================] - 14s 93ms/step - loss: 0.3988 - accuracy: 0.8583 - val_loss: 0.3445 - val_accuracy: 0.8904\n",
            "Epoch 10/100\n",
            "156/156 [==============================] - 15s 95ms/step - loss: 0.3989 - accuracy: 0.8583 - val_loss: 0.3417 - val_accuracy: 0.8904\n",
            "Epoch 11/100\n",
            "156/156 [==============================] - 15s 94ms/step - loss: 0.3986 - accuracy: 0.8583 - val_loss: 0.3338 - val_accuracy: 0.8904\n",
            "Epoch 12/100\n",
            "156/156 [==============================] - 15s 94ms/step - loss: 0.4001 - accuracy: 0.8583 - val_loss: 0.3369 - val_accuracy: 0.8904\n",
            "Epoch 13/100\n",
            "156/156 [==============================] - 17s 107ms/step - loss: 0.3971 - accuracy: 0.8583 - val_loss: 0.3327 - val_accuracy: 0.8904\n",
            "Epoch 14/100\n",
            "156/156 [==============================] - 15s 97ms/step - loss: 0.3972 - accuracy: 0.8583 - val_loss: 0.3341 - val_accuracy: 0.8904\n",
            "Epoch 15/100\n",
            "156/156 [==============================] - 15s 96ms/step - loss: 0.3940 - accuracy: 0.8583 - val_loss: 0.3350 - val_accuracy: 0.8904\n",
            "Epoch 16/100\n",
            "156/156 [==============================] - 15s 96ms/step - loss: 0.3966 - accuracy: 0.8583 - val_loss: 0.3353 - val_accuracy: 0.8904\n",
            "Epoch 17/100\n",
            "156/156 [==============================] - 15s 98ms/step - loss: 0.3932 - accuracy: 0.8583 - val_loss: 0.3302 - val_accuracy: 0.8904\n",
            "Epoch 18/100\n",
            "156/156 [==============================] - 15s 95ms/step - loss: 0.3956 - accuracy: 0.8583 - val_loss: 0.3395 - val_accuracy: 0.8904\n",
            "Epoch 19/100\n",
            "156/156 [==============================] - 15s 95ms/step - loss: 0.3928 - accuracy: 0.8583 - val_loss: 0.3303 - val_accuracy: 0.8904\n",
            "Epoch 20/100\n",
            "156/156 [==============================] - 15s 94ms/step - loss: 0.3902 - accuracy: 0.8583 - val_loss: 0.3351 - val_accuracy: 0.8904\n",
            "Epoch 21/100\n",
            "156/156 [==============================] - 15s 94ms/step - loss: 0.3898 - accuracy: 0.8583 - val_loss: 0.3303 - val_accuracy: 0.8904\n",
            "Epoch 22/100\n",
            "156/156 [==============================] - 15s 95ms/step - loss: 0.3947 - accuracy: 0.8583 - val_loss: 0.3276 - val_accuracy: 0.8904\n",
            "Epoch 23/100\n",
            "156/156 [==============================] - 15s 94ms/step - loss: 0.3911 - accuracy: 0.8583 - val_loss: 0.3333 - val_accuracy: 0.8904\n",
            "Epoch 24/100\n",
            "156/156 [==============================] - 15s 96ms/step - loss: 0.3939 - accuracy: 0.8583 - val_loss: 0.3343 - val_accuracy: 0.8904\n",
            "Epoch 25/100\n",
            "156/156 [==============================] - 15s 97ms/step - loss: 0.3890 - accuracy: 0.8583 - val_loss: 0.3383 - val_accuracy: 0.8904\n",
            "Epoch 26/100\n",
            "156/156 [==============================] - 15s 96ms/step - loss: 0.3905 - accuracy: 0.8583 - val_loss: 0.3257 - val_accuracy: 0.8904\n",
            "Epoch 27/100\n",
            "156/156 [==============================] - 15s 96ms/step - loss: 0.3893 - accuracy: 0.8590 - val_loss: 0.3269 - val_accuracy: 0.8904\n",
            "Epoch 28/100\n",
            "156/156 [==============================] - 15s 94ms/step - loss: 0.3837 - accuracy: 0.8609 - val_loss: 0.3239 - val_accuracy: 0.8904\n",
            "Epoch 29/100\n",
            "156/156 [==============================] - 17s 107ms/step - loss: 0.3864 - accuracy: 0.8603 - val_loss: 0.3131 - val_accuracy: 0.8981\n",
            "Epoch 30/100\n",
            "156/156 [==============================] - 15s 94ms/step - loss: 0.3825 - accuracy: 0.8647 - val_loss: 0.3461 - val_accuracy: 0.8904\n",
            "Epoch 31/100\n",
            "156/156 [==============================] - 15s 94ms/step - loss: 0.3924 - accuracy: 0.8583 - val_loss: 0.3382 - val_accuracy: 0.8904\n",
            "Epoch 32/100\n",
            "156/156 [==============================] - 15s 95ms/step - loss: 0.3778 - accuracy: 0.8609 - val_loss: 0.3197 - val_accuracy: 0.8942\n",
            "Epoch 33/100\n",
            "156/156 [==============================] - 15s 95ms/step - loss: 0.3751 - accuracy: 0.8660 - val_loss: 0.3186 - val_accuracy: 0.9019\n",
            "Epoch 34/100\n",
            "156/156 [==============================] - 15s 96ms/step - loss: 0.3846 - accuracy: 0.8622 - val_loss: 0.3295 - val_accuracy: 0.8904\n",
            "Epoch 35/100\n",
            "156/156 [==============================] - 15s 93ms/step - loss: 0.3904 - accuracy: 0.8583 - val_loss: 0.3323 - val_accuracy: 0.8904\n",
            "Epoch 36/100\n",
            "156/156 [==============================] - 15s 95ms/step - loss: 0.3715 - accuracy: 0.8654 - val_loss: 0.3063 - val_accuracy: 0.9038\n",
            "Epoch 37/100\n",
            "156/156 [==============================] - 15s 93ms/step - loss: 0.3714 - accuracy: 0.8679 - val_loss: 0.3393 - val_accuracy: 0.8942\n",
            "Epoch 38/100\n",
            "156/156 [==============================] - 15s 96ms/step - loss: 0.3790 - accuracy: 0.8654 - val_loss: 0.3042 - val_accuracy: 0.9077\n",
            "Epoch 39/100\n",
            "156/156 [==============================] - 15s 95ms/step - loss: 0.3846 - accuracy: 0.8609 - val_loss: 0.3259 - val_accuracy: 0.8904\n",
            "Epoch 40/100\n",
            "156/156 [==============================] - 15s 94ms/step - loss: 0.3892 - accuracy: 0.8583 - val_loss: 0.3273 - val_accuracy: 0.8904\n",
            "Epoch 41/100\n",
            "156/156 [==============================] - 15s 94ms/step - loss: 0.3838 - accuracy: 0.8583 - val_loss: 0.3232 - val_accuracy: 0.8904\n",
            "Epoch 42/100\n",
            "156/156 [==============================] - 14s 93ms/step - loss: 0.3754 - accuracy: 0.8596 - val_loss: 0.3226 - val_accuracy: 0.8904\n",
            "Epoch 43/100\n",
            "156/156 [==============================] - 15s 93ms/step - loss: 0.3860 - accuracy: 0.8603 - val_loss: 0.3188 - val_accuracy: 0.9019\n",
            "Epoch 44/100\n",
            "156/156 [==============================] - 14s 92ms/step - loss: 0.3823 - accuracy: 0.8641 - val_loss: 0.3414 - val_accuracy: 0.8904\n",
            "Epoch 45/100\n",
            "156/156 [==============================] - 16s 106ms/step - loss: 0.3915 - accuracy: 0.8583 - val_loss: 0.3304 - val_accuracy: 0.8904\n",
            "Epoch 46/100\n",
            "156/156 [==============================] - 15s 93ms/step - loss: 0.3783 - accuracy: 0.8673 - val_loss: 0.3161 - val_accuracy: 0.9058\n",
            "Epoch 47/100\n",
            "156/156 [==============================] - 15s 94ms/step - loss: 0.3881 - accuracy: 0.8596 - val_loss: 0.3271 - val_accuracy: 0.8981\n",
            "Epoch 48/100\n",
            "156/156 [==============================] - 15s 94ms/step - loss: 0.3847 - accuracy: 0.8603 - val_loss: 0.3386 - val_accuracy: 0.9077\n",
            "Epoch 49/100\n",
            "156/156 [==============================] - 15s 94ms/step - loss: 0.3645 - accuracy: 0.8750 - val_loss: 0.3251 - val_accuracy: 0.8904\n",
            "Epoch 50/100\n",
            "156/156 [==============================] - 15s 93ms/step - loss: 0.3818 - accuracy: 0.8603 - val_loss: 0.3331 - val_accuracy: 0.8904\n",
            "Epoch 51/100\n",
            "156/156 [==============================] - 15s 94ms/step - loss: 0.3850 - accuracy: 0.8660 - val_loss: 0.3058 - val_accuracy: 0.9019\n",
            "Epoch 52/100\n",
            "156/156 [==============================] - 15s 94ms/step - loss: 0.3843 - accuracy: 0.8635 - val_loss: 0.3302 - val_accuracy: 0.8981\n",
            "Epoch 53/100\n",
            "156/156 [==============================] - 14s 92ms/step - loss: 0.3599 - accuracy: 0.8724 - val_loss: 0.3284 - val_accuracy: 0.8904\n",
            "Epoch 54/100\n",
            "156/156 [==============================] - 14s 93ms/step - loss: 0.3852 - accuracy: 0.8583 - val_loss: 0.3173 - val_accuracy: 0.8904\n",
            "Epoch 55/100\n",
            "156/156 [==============================] - 14s 92ms/step - loss: 0.3656 - accuracy: 0.8654 - val_loss: 0.3222 - val_accuracy: 0.8904\n",
            "Epoch 56/100\n",
            "156/156 [==============================] - 15s 94ms/step - loss: 0.3530 - accuracy: 0.8763 - val_loss: 0.3035 - val_accuracy: 0.8981\n",
            "Epoch 57/100\n",
            "156/156 [==============================] - 14s 92ms/step - loss: 0.3847 - accuracy: 0.8583 - val_loss: 0.3175 - val_accuracy: 0.9000\n",
            "Epoch 58/100\n",
            "156/156 [==============================] - 15s 93ms/step - loss: 0.4357 - accuracy: 0.8218 - val_loss: 0.3668 - val_accuracy: 0.8904\n",
            "Epoch 59/100\n",
            "156/156 [==============================] - 16s 104ms/step - loss: 0.3832 - accuracy: 0.8660 - val_loss: 0.3120 - val_accuracy: 0.9000\n",
            "Epoch 60/100\n",
            "156/156 [==============================] - 15s 96ms/step - loss: 0.3619 - accuracy: 0.8763 - val_loss: 0.3040 - val_accuracy: 0.9058\n",
            "Epoch 61/100\n",
            "156/156 [==============================] - 17s 109ms/step - loss: 0.3585 - accuracy: 0.8788 - val_loss: 0.3197 - val_accuracy: 0.8981\n",
            "Epoch 62/100\n",
            "156/156 [==============================] - 15s 95ms/step - loss: 0.3494 - accuracy: 0.8846 - val_loss: 0.2985 - val_accuracy: 0.9058\n",
            "Epoch 63/100\n",
            "156/156 [==============================] - 15s 97ms/step - loss: 0.3574 - accuracy: 0.8782 - val_loss: 0.3237 - val_accuracy: 0.8923\n",
            "Epoch 64/100\n",
            "156/156 [==============================] - 15s 98ms/step - loss: 0.3553 - accuracy: 0.8801 - val_loss: 0.3005 - val_accuracy: 0.9058\n",
            "Epoch 65/100\n",
            "156/156 [==============================] - 16s 100ms/step - loss: 0.3620 - accuracy: 0.8750 - val_loss: 0.3052 - val_accuracy: 0.9038\n",
            "Epoch 66/100\n",
            "156/156 [==============================] - 15s 98ms/step - loss: 0.3517 - accuracy: 0.8801 - val_loss: 0.2969 - val_accuracy: 0.9058\n",
            "Epoch 67/100\n",
            "156/156 [==============================] - 15s 99ms/step - loss: 0.3461 - accuracy: 0.8859 - val_loss: 0.3235 - val_accuracy: 0.8923\n",
            "Epoch 68/100\n",
            "156/156 [==============================] - 15s 98ms/step - loss: 0.3662 - accuracy: 0.8744 - val_loss: 0.2970 - val_accuracy: 0.9058\n",
            "Epoch 69/100\n",
            "156/156 [==============================] - 15s 99ms/step - loss: 0.3541 - accuracy: 0.8808 - val_loss: 0.3012 - val_accuracy: 0.9058\n",
            "Epoch 70/100\n",
            "156/156 [==============================] - 15s 96ms/step - loss: 0.3659 - accuracy: 0.8699 - val_loss: 0.3260 - val_accuracy: 0.8904\n",
            "Epoch 71/100\n",
            "156/156 [==============================] - 15s 96ms/step - loss: 0.3574 - accuracy: 0.8769 - val_loss: 0.3018 - val_accuracy: 0.9058\n",
            "Epoch 72/100\n",
            "156/156 [==============================] - 15s 95ms/step - loss: 0.3544 - accuracy: 0.8788 - val_loss: 0.3213 - val_accuracy: 0.8923\n",
            "Epoch 73/100\n",
            "156/156 [==============================] - 15s 96ms/step - loss: 0.3552 - accuracy: 0.8801 - val_loss: 0.3050 - val_accuracy: 0.8981\n",
            "Epoch 74/100\n",
            "156/156 [==============================] - 15s 95ms/step - loss: 0.3533 - accuracy: 0.8795 - val_loss: 0.2906 - val_accuracy: 0.9115\n",
            "Epoch 75/100\n",
            "156/156 [==============================] - 15s 96ms/step - loss: 0.3364 - accuracy: 0.8885 - val_loss: 0.3051 - val_accuracy: 0.9058\n",
            "Epoch 76/100\n",
            "156/156 [==============================] - 15s 98ms/step - loss: 0.3689 - accuracy: 0.8692 - val_loss: 0.3084 - val_accuracy: 0.9154\n",
            "Epoch 77/100\n",
            "156/156 [==============================] - 16s 103ms/step - loss: 0.3499 - accuracy: 0.8821 - val_loss: 0.2947 - val_accuracy: 0.9096\n",
            "Epoch 78/100\n",
            "156/156 [==============================] - 15s 95ms/step - loss: 0.3599 - accuracy: 0.8744 - val_loss: 0.3210 - val_accuracy: 0.8904\n",
            "Epoch 79/100\n",
            "156/156 [==============================] - 15s 96ms/step - loss: 0.3647 - accuracy: 0.8724 - val_loss: 0.3220 - val_accuracy: 0.8942\n",
            "Epoch 80/100\n",
            "156/156 [==============================] - 15s 96ms/step - loss: 0.3593 - accuracy: 0.8724 - val_loss: 0.2921 - val_accuracy: 0.9096\n",
            "Epoch 81/100\n",
            "156/156 [==============================] - 15s 95ms/step - loss: 0.3888 - accuracy: 0.8487 - val_loss: 0.3263 - val_accuracy: 0.8904\n",
            "Epoch 82/100\n",
            "156/156 [==============================] - 15s 96ms/step - loss: 0.3677 - accuracy: 0.8596 - val_loss: 0.3121 - val_accuracy: 0.8904\n",
            "Epoch 83/100\n",
            "156/156 [==============================] - 16s 100ms/step - loss: 0.3532 - accuracy: 0.8699 - val_loss: 0.2981 - val_accuracy: 0.9019\n",
            "Epoch 84/100\n",
            "156/156 [==============================] - 16s 100ms/step - loss: 0.3402 - accuracy: 0.8808 - val_loss: 0.3146 - val_accuracy: 0.8923\n",
            "Epoch 85/100\n",
            "156/156 [==============================] - 16s 100ms/step - loss: 0.3328 - accuracy: 0.8859 - val_loss: 0.2779 - val_accuracy: 0.9154\n",
            "Epoch 86/100\n",
            "156/156 [==============================] - 16s 100ms/step - loss: 0.3401 - accuracy: 0.8827 - val_loss: 0.2908 - val_accuracy: 0.9154\n",
            "Epoch 87/100\n",
            "156/156 [==============================] - 16s 100ms/step - loss: 0.3529 - accuracy: 0.8692 - val_loss: 0.6286 - val_accuracy: 0.6673\n",
            "Epoch 88/100\n",
            "156/156 [==============================] - 16s 101ms/step - loss: 0.3860 - accuracy: 0.8583 - val_loss: 1.4735 - val_accuracy: 0.1135\n",
            "Epoch 89/100\n",
            "156/156 [==============================] - 16s 102ms/step - loss: 0.7854 - accuracy: 0.4962 - val_loss: 0.5669 - val_accuracy: 0.8904\n",
            "Epoch 90/100\n",
            "156/156 [==============================] - 16s 100ms/step - loss: 0.5307 - accuracy: 0.8583 - val_loss: 0.4724 - val_accuracy: 0.8904\n",
            "Epoch 91/100\n",
            "156/156 [==============================] - 16s 102ms/step - loss: 0.4761 - accuracy: 0.8583 - val_loss: 0.4292 - val_accuracy: 0.8904\n",
            "Epoch 92/100\n",
            "156/156 [==============================] - 17s 109ms/step - loss: 0.4494 - accuracy: 0.8583 - val_loss: 0.4045 - val_accuracy: 0.8904\n",
            "Epoch 93/100\n",
            "156/156 [==============================] - 16s 101ms/step - loss: 0.4336 - accuracy: 0.8583 - val_loss: 0.3879 - val_accuracy: 0.8904\n",
            "Epoch 94/100\n",
            "156/156 [==============================] - 15s 99ms/step - loss: 0.4235 - accuracy: 0.8583 - val_loss: 0.3762 - val_accuracy: 0.8904\n",
            "Epoch 95/100\n",
            "156/156 [==============================] - 16s 100ms/step - loss: 0.4170 - accuracy: 0.8583 - val_loss: 0.3681 - val_accuracy: 0.8904\n",
            "Epoch 96/100\n",
            "156/156 [==============================] - 16s 100ms/step - loss: 0.4128 - accuracy: 0.8583 - val_loss: 0.3624 - val_accuracy: 0.8904\n",
            "Epoch 97/100\n",
            "156/156 [==============================] - 16s 101ms/step - loss: 0.4099 - accuracy: 0.8583 - val_loss: 0.3579 - val_accuracy: 0.8904\n",
            "Epoch 98/100\n",
            "156/156 [==============================] - 16s 101ms/step - loss: 0.4084 - accuracy: 0.8583 - val_loss: 0.3549 - val_accuracy: 0.8904\n",
            "Epoch 99/100\n",
            "156/156 [==============================] - 16s 101ms/step - loss: 0.4072 - accuracy: 0.8583 - val_loss: 0.3528 - val_accuracy: 0.8904\n",
            "Epoch 100/100\n",
            "156/156 [==============================] - 16s 102ms/step - loss: 0.4056 - accuracy: 0.8583 - val_loss: 0.3511 - val_accuracy: 0.8904\n"
          ]
        }
      ]
    },
    {
      "cell_type": "markdown",
      "metadata": {
        "id": "4WE-GCXbBV2N"
      },
      "source": [
        "# Evaluate"
      ]
    },
    {
      "cell_type": "code",
      "metadata": {
        "id": "YohCWjkHBk0J"
      },
      "source": [
        "def test_model(model, history):\n",
        "  X_test, y_test = build_dataset(download_data(10))\n",
        "  scores = model.evaluate(X_test, y_test)\n",
        "  \n",
        "for name, val in zip(model.metrics_names, scores):\n",
        "  print(name,\":\",val)\n",
        "\n",
        "  plt.plot(history.history['accuracy'], label='Training Accuracy')\n",
        "  plt.plot(history.history['loss'], label='Training Loss')\n",
        "  plt.plot(history.history['val_accuracy'], label='Validation Accuracy')\n",
        "  plt.plot(history.history['val_loss'], label='Validation Loss')\n",
        "\n",
        "  plt.legend()\n",
        "  plt.show()"
      ],
      "execution_count": null,
      "outputs": []
    },
    {
      "cell_type": "code",
      "metadata": {
        "colab": {
          "base_uri": "https://localhost:8080/"
        },
        "id": "I4NVQF3aK534",
        "outputId": "d2a0ca8e-0cac-4543-ff22-09ceebb695db"
      },
      "source": [
        "test_model(model)"
      ],
      "execution_count": null,
      "outputs": [
        {
          "output_type": "stream",
          "text": [
            "2967\n",
            "[*********************100%***********************]  10 of 10 completed\n",
            "\n",
            "6 Failed downloads:\n",
            "- DWCH: No data found for this date range, symbol may be delisted\n",
            "- NRX: No data found for this date range, symbol may be delisted\n",
            "- ARRS: No data found, symbol may be delisted\n",
            "- VIAB: No data found, symbol may be delisted\n",
            "- STB: No data found, symbol may be delisted\n",
            "- BSTC: No data found, symbol may be delisted\n",
            "Dropping DWCH\n",
            "Dropping NRX\n",
            "Dropping ARRS\n",
            "Dropping VIAB\n",
            "Dropping STB\n",
            "Dropping BSTC\n",
            "Dropping MOSY\n",
            "(821, 18)\n",
            "normalizing data                               SBLK           ...       LBRDK        \n",
            "                              Open     High  ...   Adj Close  Volume\n",
            "2020-12-16 09:30:00-05:00   7.8000   7.8500  ...  160.350006   26455\n",
            "2020-12-16 09:45:00-05:00   7.7150   7.7446  ...  161.229996   88104\n",
            "2020-12-16 10:00:00-05:00   7.6900   7.6900  ...  160.910004   32147\n",
            "2020-12-16 10:15:00-05:00   7.6400   7.6900  ...  161.169998   58514\n",
            "2020-12-16 10:30:00-05:00   7.6600   7.7500  ...  161.154999   61937\n",
            "...                            ...      ...  ...         ...     ...\n",
            "2021-02-02 14:45:00-05:00  10.4500  10.5459  ...  150.475006   12698\n",
            "2021-02-02 15:00:00-05:00  10.5050  10.5400  ...  150.220001   23935\n",
            "2021-02-02 15:15:00-05:00  10.5278  10.5700  ...  150.199997   25331\n",
            "2021-02-02 15:30:00-05:00  10.5700  10.6200  ...  149.895004   76039\n",
            "2021-02-02 15:45:00-05:00  10.5950  10.6000  ...  149.449997  114793\n",
            "\n",
            "[821 rows x 18 columns]\n",
            "Building data for SBLK\n",
            "Open\n",
            "High\n",
            "Low\n",
            "Close\n",
            "Adj Close\n",
            "Volume\n",
            "SMA\n",
            "EMA\n",
            "RSI\n",
            "K_percent\n",
            "VWAP\n",
            "MACD\n",
            "CCI\n",
            "ATR\n",
            "ADX\n",
            "BBAND_UP\n",
            "BBAND_DOWN\n",
            "Building data for GPRO\n",
            "Open\n",
            "High\n",
            "Low\n",
            "Close\n",
            "Adj Close\n",
            "Volume\n",
            "SMA\n",
            "EMA\n",
            "RSI\n",
            "K_percent\n",
            "VWAP\n",
            "MACD\n",
            "CCI\n",
            "ATR\n",
            "ADX\n",
            "BBAND_UP\n",
            "BBAND_DOWN\n",
            "Building data for LBRDK\n",
            "Open\n",
            "High\n",
            "Low\n",
            "Close\n",
            "Adj Close\n",
            "Volume\n",
            "SMA\n",
            "EMA\n",
            "RSI\n",
            "K_percent\n",
            "VWAP\n",
            "MACD\n",
            "CCI\n",
            "ATR\n",
            "ADX\n",
            "BBAND_UP\n",
            "BBAND_DOWN\n",
            "53/53 [==============================] - 1s 12ms/step - loss: 0.6515 - accuracy: 0.6655\n",
            "Stats: ['loss', 'accuracy']\n",
            "[0.6515370011329651, 0.6654654741287231]\n"
          ],
          "name": "stdout"
        }
      ]
    },
    {
      "cell_type": "markdown",
      "metadata": {
        "id": "hfhDZbkZBTUG"
      },
      "source": [
        "# Predict"
      ]
    },
    {
      "cell_type": "code",
      "metadata": {
        "id": "QuwMbvB3Blp-"
      },
      "source": [
        "def predict(model, X):\n",
        "  return model.predict(X)"
      ],
      "execution_count": null,
      "outputs": []
    },
    {
      "cell_type": "code",
      "metadata": {
        "colab": {
          "base_uri": "https://localhost:8080/"
        },
        "id": "Uvr_WRQTNCtp",
        "outputId": "b852d8b7-2f89-4dd4-d4c4-8f0594a48c59"
      },
      "source": [
        "gme = build_prediction_data(download_prediction_ticker('GME AAPL AMZN'))\n",
        "predict(model, gme)"
      ],
      "execution_count": null,
      "outputs": [
        {
          "output_type": "stream",
          "text": [
            "[*********************100%***********************]  3 of 3 completed\n",
            "                                  AMZN               ...         GME          \n",
            "                                  Open         High  ...   Adj Close    Volume\n",
            "Datetime                                             ...                      \n",
            "2021-01-27 09:30:00-05:00  3341.489990  3346.520020  ...  312.000000  19569054\n",
            "2021-01-27 09:45:00-05:00  3255.000000  3288.590088  ...  310.690002   4808932\n",
            "2021-01-27 10:00:00-05:00  3287.376709  3306.870117  ...  249.720001   3435701\n",
            "2021-01-27 10:15:00-05:00  3289.639893  3311.050049  ...  278.848511   3101187\n",
            "2021-01-27 10:30:00-05:00  3297.429932  3304.272217  ...  307.000092   3745114\n",
            "...                                ...          ...  ...         ...       ...\n",
            "2021-02-02 14:45:00-05:00  3415.530029  3419.764893  ...   99.900002   1127809\n",
            "2021-02-02 15:00:00-05:00  3416.979980  3416.979980  ...   98.500099   1038749\n",
            "2021-02-02 15:15:00-05:00  3397.000000  3404.399902  ...   95.000000    964719\n",
            "2021-02-02 15:30:00-05:00  3400.120117  3400.120117  ...   94.769897   1025933\n",
            "2021-02-02 15:45:00-05:00  3380.899902  3391.000000  ...   90.209999   2551715\n",
            "\n",
            "[130 rows x 18 columns]\n",
            "Building data for AMZN\n",
            "Building data for AAPL\n",
            "Building data for GME\n"
          ],
          "name": "stdout"
        },
        {
          "output_type": "execute_result",
          "data": {
            "text/plain": [
              "array([[9.99884725e-01, 1.15317060e-04],\n",
              "       [9.99889135e-01, 1.10888926e-04],\n",
              "       [9.99887943e-01, 1.12064175e-04]], dtype=float32)"
            ]
          },
          "metadata": {
            "tags": []
          },
          "execution_count": 68
        }
      ]
    },
    {
      "cell_type": "markdown",
      "metadata": {
        "id": "fkbh_7-DyyZQ"
      },
      "source": [
        "# Cleanup"
      ]
    },
    {
      "cell_type": "code",
      "metadata": {
        "id": "yUF3wgPpy16a"
      },
      "source": [
        "# remove all files from data dir\n",
        "!rm /content/drive/MyDrive/stonks_model/data/*"
      ],
      "execution_count": null,
      "outputs": []
    }
  ]
}